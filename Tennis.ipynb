{
 "cells": [
  {
   "cell_type": "markdown",
   "metadata": {},
   "source": [
    "# Collaboration and Competition\n",
    "\n",
    "---\n",
    "\n",
    "In this notebook, you will learn how to use the Unity ML-Agents environment for the third project of the [Deep Reinforcement Learning Nanodegree](https://www.udacity.com/course/deep-reinforcement-learning-nanodegree--nd893) program.\n",
    "\n",
    "### 1. Start the Environment\n",
    "\n",
    "We begin by importing the necessary packages.  If the code cell below returns an error, please revisit the project instructions to double-check that you have installed [Unity ML-Agents](https://github.com/Unity-Technologies/ml-agents/blob/master/docs/Installation.md) and [NumPy](http://www.numpy.org/)."
   ]
  },
  {
   "cell_type": "code",
   "execution_count": null,
   "metadata": {},
   "outputs": [],
   "source": [
    "from unityagents import UnityEnvironment\n",
    "import numpy as np"
   ]
  },
  {
   "cell_type": "markdown",
   "metadata": {},
   "source": [
    "Next, we will start the environment!  **_Before running the code cell below_**, change the `file_name` parameter to match the location of the Unity environment that you downloaded.\n",
    "\n",
    "- **Mac**: `\"path/to/Tennis.app\"`\n",
    "- **Windows** (x86): `\"path/to/Tennis_Windows_x86/Tennis.exe\"`\n",
    "- **Windows** (x86_64): `\"path/to/Tennis_Windows_x86_64/Tennis.exe\"`\n",
    "- **Linux** (x86): `\"path/to/Tennis_Linux/Tennis.x86\"`\n",
    "- **Linux** (x86_64): `\"path/to/Tennis_Linux/Tennis.x86_64\"`\n",
    "- **Linux** (x86, headless): `\"path/to/Tennis_Linux_NoVis/Tennis.x86\"`\n",
    "- **Linux** (x86_64, headless): `\"path/to/Tennis_Linux_NoVis/Tennis.x86_64\"`\n",
    "\n",
    "For instance, if you are using a Mac, then you downloaded `Tennis.app`.  If this file is in the same folder as the notebook, then the line below should appear as follows:\n",
    "```\n",
    "env = UnityEnvironment(file_name=\"Tennis.app\")\n",
    "```"
   ]
  },
  {
   "cell_type": "code",
   "execution_count": null,
   "metadata": {},
   "outputs": [],
   "source": [
    "env = UnityEnvironment(file_name=\"Tennis.app\")"
   ]
  },
  {
   "cell_type": "markdown",
   "metadata": {},
   "source": [
    "Environments contain **_brains_** which are responsible for deciding the actions of their associated agents. Here we check for the first brain available, and set it as the default brain we will be controlling from Python."
   ]
  },
  {
   "cell_type": "code",
   "execution_count": null,
   "metadata": {},
   "outputs": [],
   "source": [
    "# get the default brain\n",
    "brain_name = env.brain_names[0]\n",
    "brain = env.brains[brain_name]"
   ]
  },
  {
   "cell_type": "markdown",
   "metadata": {},
   "source": [
    "### 2. Examine the State and Action Spaces\n",
    "\n",
    "In this environment, two agents control rackets to bounce a ball over a net. If an agent hits the ball over the net, it receives a reward of +0.1.  If an agent lets a ball hit the ground or hits the ball out of bounds, it receives a reward of -0.01.  Thus, the goal of each agent is to keep the ball in play.\n",
    "\n",
    "The observation space consists of 8 variables corresponding to the position and velocity of the ball and racket. Two continuous actions are available, corresponding to movement toward (or away from) the net, and jumping. \n",
    "\n",
    "Run the code cell below to print some information about the environment."
   ]
  },
  {
   "cell_type": "code",
   "execution_count": null,
   "metadata": {},
   "outputs": [],
   "source": [
    "# reset the environment\n",
    "env_info = env.reset(train_mode=True)[brain_name]\n",
    "\n",
    "# number of agents \n",
    "num_agents = len(env_info.agents)\n",
    "print('Number of agents:', num_agents)\n",
    "\n",
    "# size of each action\n",
    "action_size = brain.vector_action_space_size\n",
    "print('Size of each action:', action_size)\n",
    "\n",
    "# examine the state space \n",
    "states = env_info.vector_observations\n",
    "state_size = states.shape[1]\n",
    "print('There are {} agents. Each observes a state with length: {}'.format(states.shape[0], state_size))\n",
    "print('The state for the first agent looks like:', states[0])"
   ]
  },
  {
   "cell_type": "markdown",
   "metadata": {},
   "source": [
    "### 3. Take Random Actions in the Environment\n",
    "\n",
    "In the next code cell, you will learn how to use the Python API to control the agents and receive feedback from the environment.\n",
    "\n",
    "Once this cell is executed, you will watch the agents' performance, if they select actions at random with each time step.  A window should pop up that allows you to observe the agents.\n",
    "\n",
    "Of course, as part of the project, you'll have to change the code so that the agents are able to use their experiences to gradually choose better actions when interacting with the environment!"
   ]
  },
  {
   "cell_type": "code",
   "execution_count": null,
   "metadata": {},
   "outputs": [],
   "source": [
    "for i in range(1, 6):                                      # play game for 5 episodes\n",
    "    env_info = env.reset(train_mode=False)[brain_name]     # reset the environment    \n",
    "    states = env_info.vector_observations                  # get the current state (for each agent)\n",
    "    scores = np.zeros(num_agents)                          # initialize the score (for each agent)\n",
    "    while True:\n",
    "        actions = np.random.randn(num_agents, action_size) # select an action (for each agent)\n",
    "        actions = np.clip(actions, -1, 1)                  # all actions between -1 and 1\n",
    "        env_info = env.step(actions)[brain_name]           # send all actions to tne environment\n",
    "        next_states = env_info.vector_observations         # get next state (for each agent)\n",
    "        rewards = env_info.rewards                         # get reward (for each agent)\n",
    "        dones = env_info.local_done                        # see if episode finished\n",
    "        scores += env_info.rewards                         # update the score (for each agent)\n",
    "        states = next_states                               # roll over states to next time step\n",
    "        if np.any(dones):                                  # exit loop if episode finished\n",
    "            break\n",
    "    print('Score (max over agents) from episode {}: {}'.format(i, np.max(scores)))"
   ]
  },
  {
   "cell_type": "code",
   "execution_count": null,
   "metadata": {},
   "outputs": [],
   "source": [
    "actions.shape"
   ]
  },
  {
   "cell_type": "markdown",
   "metadata": {},
   "source": [
    "When finished, you can close the environment."
   ]
  },
  {
   "cell_type": "code",
   "execution_count": null,
   "metadata": {},
   "outputs": [],
   "source": [
    "env.close()"
   ]
  },
  {
   "cell_type": "markdown",
   "metadata": {},
   "source": [
    "### 4. It's Your Turn!\n",
    "\n",
    "Now it's your turn to train your own agent to solve the environment!  When training the environment, set `train_mode=True`, so that the line for resetting the environment looks like the following:\n",
    "```python\n",
    "env_info = env.reset(train_mode=True)[brain_name]\n",
    "```"
   ]
  },
  {
   "cell_type": "code",
   "execution_count": null,
   "metadata": {},
   "outputs": [],
   "source": []
  },
  {
   "cell_type": "code",
   "execution_count": 1,
   "metadata": {},
   "outputs": [],
   "source": [
    "\n",
    "from unityagents import UnityEnvironment\n",
    "import numpy as np\n",
    "import torch\n",
    "import sys\n",
    "import argparse\n",
    "from collections import deque\n",
    "from ddpg_agent import Agent\n",
    "import matplotlib.pyplot as plt\n",
    "%matplotlib inline"
   ]
  },
  {
   "cell_type": "code",
   "execution_count": 2,
   "metadata": {},
   "outputs": [
    {
     "name": "stderr",
     "output_type": "stream",
     "text": [
      "INFO:unityagents:\n",
      "'Academy' started successfully!\n",
      "Unity Academy name: Academy\n",
      "        Number of Brains: 1\n",
      "        Number of External Brains : 1\n",
      "        Lesson number : 0\n",
      "        Reset Parameters :\n",
      "\t\t\n",
      "Unity brain name: TennisBrain\n",
      "        Number of Visual Observations (per agent): 0\n",
      "        Vector Observation space type: continuous\n",
      "        Vector Observation space size (per agent): 8\n",
      "        Number of stacked Vector Observation: 3\n",
      "        Vector Action space type: continuous\n",
      "        Vector Action space size (per agent): 2\n",
      "        Vector Action descriptions: , \n"
     ]
    }
   ],
   "source": [
    "env = UnityEnvironment(file_name=\"Tennis.app\")"
   ]
  },
  {
   "cell_type": "code",
   "execution_count": 3,
   "metadata": {},
   "outputs": [],
   "source": [
    "# get the default brain\n",
    "brain_name = env.brain_names[0]\n",
    "brain = env.brains[brain_name]"
   ]
  },
  {
   "cell_type": "code",
   "execution_count": 4,
   "metadata": {},
   "outputs": [
    {
     "name": "stdout",
     "output_type": "stream",
     "text": [
      "Number of agents: 2\n",
      "Size of each action: 2\n",
      "There are 2 agents. Each observes a state with length: 24\n",
      "The state for the first agent looks like: [ 0.          0.          0.          0.          0.          0.\n",
      "  0.          0.          0.          0.          0.          0.\n",
      "  0.          0.          0.          0.         -6.65278625 -1.5\n",
      " -0.          0.          6.83172083  6.         -0.          0.        ]\n"
     ]
    }
   ],
   "source": [
    "# reset the environment\n",
    "env_info = env.reset(train_mode=True)[brain_name]\n",
    "\n",
    "# number of agents \n",
    "num_agents = len(env_info.agents)\n",
    "print('Number of agents:', num_agents)\n",
    "\n",
    "# size of each action\n",
    "action_size = brain.vector_action_space_size\n",
    "print('Size of each action:', action_size)\n",
    "\n",
    "# examine the state space \n",
    "states = env_info.vector_observations\n",
    "state_size = states.shape[1]\n",
    "print('There are {} agents. Each observes a state with length: {}'.format(states.shape[0], state_size))\n",
    "print('The state for the first agent looks like:', states[0])"
   ]
  },
  {
   "cell_type": "code",
   "execution_count": 5,
   "metadata": {},
   "outputs": [
    {
     "data": {
      "text/plain": [
       "array([[ 0.        ,  0.        ,  0.        ,  0.        ,  0.        ,\n",
       "         0.        ,  0.        ,  0.        ,  0.        ,  0.        ,\n",
       "         0.        ,  0.        ,  0.        ,  0.        ,  0.        ,\n",
       "         0.        , -6.65278625, -1.5       , -0.        ,  0.        ,\n",
       "         6.83172083,  6.        , -0.        ,  0.        ],\n",
       "       [ 0.        ,  0.        ,  0.        ,  0.        ,  0.        ,\n",
       "         0.        ,  0.        ,  0.        ,  0.        ,  0.        ,\n",
       "         0.        ,  0.        ,  0.        ,  0.        ,  0.        ,\n",
       "         0.        , -6.4669857 , -1.5       ,  0.        ,  0.        ,\n",
       "        -6.83172083,  6.        ,  0.        ,  0.        ]])"
      ]
     },
     "execution_count": 5,
     "metadata": {},
     "output_type": "execute_result"
    }
   ],
   "source": [
    "states"
   ]
  },
  {
   "cell_type": "code",
   "execution_count": 6,
   "metadata": {},
   "outputs": [
    {
     "ename": "NameError",
     "evalue": "name 'print_every' is not defined",
     "output_type": "error",
     "traceback": [
      "\u001b[0;31m---------------------------------------------------------------------------\u001b[0m",
      "\u001b[0;31mNameError\u001b[0m                                 Traceback (most recent call last)",
      "\u001b[0;32m<ipython-input-6-1e17ce03fb63>\u001b[0m in \u001b[0;36m<module>\u001b[0;34m\u001b[0m\n\u001b[1;32m      2\u001b[0m \u001b[0;34m\u001b[0m\u001b[0m\n\u001b[1;32m      3\u001b[0m \u001b[0;34m\u001b[0m\u001b[0m\n\u001b[0;32m----> 4\u001b[0;31m \u001b[0mscores_deque\u001b[0m \u001b[0;34m=\u001b[0m \u001b[0mdeque\u001b[0m\u001b[0;34m(\u001b[0m\u001b[0mmaxlen\u001b[0m\u001b[0;34m=\u001b[0m\u001b[0mprint_every\u001b[0m\u001b[0;34m)\u001b[0m\u001b[0;34m\u001b[0m\u001b[0;34m\u001b[0m\u001b[0m\n\u001b[0m\u001b[1;32m      5\u001b[0m \u001b[0mscores\u001b[0m \u001b[0;34m=\u001b[0m \u001b[0;34m[\u001b[0m\u001b[0;34m]\u001b[0m\u001b[0;34m\u001b[0m\u001b[0;34m\u001b[0m\u001b[0m\n\u001b[1;32m      6\u001b[0m \u001b[0;32mfor\u001b[0m \u001b[0mi_episode\u001b[0m \u001b[0;32min\u001b[0m \u001b[0mrange\u001b[0m\u001b[0;34m(\u001b[0m\u001b[0;36m1\u001b[0m\u001b[0;34m,\u001b[0m \u001b[0mn_episodes\u001b[0m \u001b[0;34m+\u001b[0m \u001b[0;36m1\u001b[0m\u001b[0;34m)\u001b[0m\u001b[0;34m:\u001b[0m\u001b[0;34m\u001b[0m\u001b[0;34m\u001b[0m\u001b[0m\n",
      "\u001b[0;31mNameError\u001b[0m: name 'print_every' is not defined"
     ]
    }
   ],
   "source": [
    "agent_1 = Agent(state_size=state_size, action_size=action_size, random_seed=2)\n",
    "\n",
    "\n",
    "scores_deque = deque(maxlen=print_every)\n",
    "scores = []\n",
    "for i_episode in range(1, n_episodes + 1):\n",
    "    env_info = env.reset(train_mode=True)[brain_name]\n",
    "    states = env_info.vector_observations\n",
    "    agent.reset()\n",
    "    score = np.zeros(num_agents)\n",
    "    for t in range(max_t):\n",
    "        actions = agent.act(states, True)\n",
    "        env_info = env.step(actions)[brain_name]\n",
    "        next_states, rewards, dones = env_info.vector_observations, env_info.rewards, env_info.local_done\n",
    "        # print(next_states.shape)\n",
    "        for state, action, reward, next_state, done in zip(states, actions, rewards, next_states, dones):\n",
    "            # print(done)\n",
    "            agent.step(state, action, reward, next_state, done, t)\n",
    "        states = next_states\n",
    "        score += rewards\n",
    "        if np.any(done):  # exit loop if episode finished\n",
    "            break\n",
    "    scores_deque.append(np.mean(score))\n",
    "    scores.append(np.mean(score))\n",
    "    print('\\rEpisode {}\\tAverage Score: {:.2f}'.format(i_episode, np.mean(scores_deque)), end=\"\")\n",
    "    if i_episode % print_every == 0:\n",
    "        print('\\rEpisode {}\\tAverage Score: {:.2f}'.format(i_episode, np.mean(scores_deque)))\n",
    "        torch.save(agent.actor_local.state_dict(), 'checkpoint_actor.pth')\n",
    "        torch.save(agent.critic_local.state_dict(), 'checkpoint_critic.pth')"
   ]
  },
  {
   "cell_type": "code",
   "execution_count": null,
   "metadata": {},
   "outputs": [],
   "source": [
    "states = env_info.vector_observations   "
   ]
  },
  {
   "cell_type": "code",
   "execution_count": null,
   "metadata": {},
   "outputs": [],
   "source": [
    "np.expand_dims(states[0],0).shape"
   ]
  },
  {
   "cell_type": "code",
   "execution_count": 5,
   "metadata": {},
   "outputs": [],
   "source": [
    "agent_1 = Agent(state_size=state_size, action_size=action_size, random_seed=2)\n",
    "agent_2 = Agent(state_size=state_size, action_size=action_size, random_seed=3)\n"
   ]
  },
  {
   "cell_type": "code",
   "execution_count": 6,
   "metadata": {},
   "outputs": [],
   "source": [
    "agent_2.memory = agent_1.memory\n",
    "agent_2.actor_local=agent_1.actor_local\n",
    "agent_2.actor_target=agent_1.actor_target\n",
    "agent_2.critic_local=agent_1.critic_local\n",
    "agent_2.critic_target=agent_1.critic_target"
   ]
  },
  {
   "cell_type": "code",
   "execution_count": 16,
   "metadata": {},
   "outputs": [],
   "source": [
    "a1 = agent_1.act(np.expand_dims(states[0],0))"
   ]
  },
  {
   "cell_type": "code",
   "execution_count": 17,
   "metadata": {},
   "outputs": [
    {
     "data": {
      "text/plain": [
       "array([[ 0.17204551, -0.1421592 ]], dtype=float32)"
      ]
     },
     "execution_count": 17,
     "metadata": {},
     "output_type": "execute_result"
    }
   ],
   "source": [
    "a1"
   ]
  },
  {
   "cell_type": "code",
   "execution_count": 18,
   "metadata": {},
   "outputs": [],
   "source": [
    "a2 = agent_1.act(np.expand_dims(states[1],0))"
   ]
  },
  {
   "cell_type": "code",
   "execution_count": 19,
   "metadata": {},
   "outputs": [
    {
     "data": {
      "text/plain": [
       "array([[ 0.17204551, -0.1421592 ],\n",
       "       [ 0.20474789, -0.09010214]], dtype=float32)"
      ]
     },
     "execution_count": 19,
     "metadata": {},
     "output_type": "execute_result"
    }
   ],
   "source": [
    "np.concatenate((a1, a2))"
   ]
  },
  {
   "cell_type": "code",
   "execution_count": 8,
   "metadata": {},
   "outputs": [
    {
     "name": "stderr",
     "output_type": "stream",
     "text": [
      "/Users/d065820/anaconda2/envs/drlnd/lib/python3.6/site-packages/numpy/core/fromnumeric.py:3118: RuntimeWarning: Mean of empty slice.\n",
      "  out=out, **kwargs)\n",
      "/Users/d065820/anaconda2/envs/drlnd/lib/python3.6/site-packages/numpy/core/_methods.py:85: RuntimeWarning: invalid value encountered in double_scalars\n",
      "  ret = ret.dtype.type(ret / rcount)\n"
     ]
    },
    {
     "name": "stdout",
     "output_type": "stream",
     "text": [
      "Score (max over agents) from episode 9: 0.00000\r"
     ]
    },
    {
     "name": "stderr",
     "output_type": "stream",
     "text": [
      "/Users/d065820/Projects/RL_nanodegree/deep-reinforcement-learning/p3_collab-compet/ddpg_agent.py:108: UserWarning: torch.nn.utils.clip_grad_norm is now deprecated in favor of torch.nn.utils.clip_grad_norm_.\n",
      "  torch.nn.utils.clip_grad_norm(self.critic_local.parameters(), 1)\n"
     ]
    },
    {
     "name": "stdout",
     "output_type": "stream",
     "text": [
      "Score (max over agents) from episode 100: 0.00000\n",
      " Episode 100\tAverage Score: 0.00\n",
      "Score (max over agents) from episode 200: 0.00000\n",
      " Episode 200\tAverage Score: 0.00\n",
      "Score (max over agents) from episode 300: 0.00000\n",
      " Episode 300\tAverage Score: 0.00\n",
      "Score (max over agents) from episode 400: 0.00000\n",
      " Episode 400\tAverage Score: 0.00\n",
      "Score (max over agents) from episode 500: 0.10000\n",
      " Episode 500\tAverage Score: 0.06\n",
      "Score (max over agents) from episode 600: 0.00000\n",
      " Episode 600\tAverage Score: 0.02\n",
      "Score (max over agents) from episode 700: 0.09000\n",
      " Episode 700\tAverage Score: 0.04\n",
      "Score (max over agents) from episode 800: 0.10000\n",
      " Episode 800\tAverage Score: 0.02\n",
      "Score (max over agents) from episode 900: 0.10000\n",
      " Episode 900\tAverage Score: 0.09\n",
      "Score (max over agents) from episode 1000: 0.10000\n",
      " Episode 1000\tAverage Score: 0.10\n",
      "Score (max over agents) from episode 1100: 0.10000\n",
      " Episode 1100\tAverage Score: 0.09\n",
      "Score (max over agents) from episode 1200: 0.29000\n",
      " Episode 1200\tAverage Score: 0.13\n",
      "Score (max over agents) from episode 1300: 0.50000\n",
      " Episode 1300\tAverage Score: 0.12\n",
      "Score (max over agents) from episode 1400: 0.09000\n",
      " Episode 1400\tAverage Score: 0.14\n",
      "Score (max over agents) from episode 1474: 1.00000\n",
      " Episode 1474\tAverage Score: 0.50\n",
      "\n",
      " Environment solved!\n",
      "Score (max over agents) from episode 1475: 0.40000\n",
      " Episode 1475\tAverage Score: 0.50\n",
      "\n",
      " Environment solved!\n",
      "Score (max over agents) from episode 1476: 1.60000\n",
      " Episode 1476\tAverage Score: 0.52\n",
      "\n",
      " Environment solved!\n",
      "Score (max over agents) from episode 1477: 2.60000\n",
      " Episode 1477\tAverage Score: 0.54\n",
      "\n",
      " Environment solved!\n",
      "Score (max over agents) from episode 1478: 2.70000\n",
      " Episode 1478\tAverage Score: 0.57\n",
      "\n",
      " Environment solved!\n",
      "Score (max over agents) from episode 1479: 2.10000\n",
      " Episode 1479\tAverage Score: 0.59\n",
      "\n",
      " Environment solved!\n",
      "Score (max over agents) from episode 1480: 2.60000\n",
      " Episode 1480\tAverage Score: 0.61\n",
      "\n",
      " Environment solved!\n",
      "Score (max over agents) from episode 1481: 2.60000\n",
      " Episode 1481\tAverage Score: 0.64\n",
      "\n",
      " Environment solved!\n",
      "Score (max over agents) from episode 1482: 0.10000\n",
      " Episode 1482\tAverage Score: 0.64\n",
      "\n",
      " Environment solved!\n",
      "Score (max over agents) from episode 1483: 0.10000\n",
      " Episode 1483\tAverage Score: 0.64\n",
      "\n",
      " Environment solved!\n",
      "Score (max over agents) from episode 1484: 1.90000\n",
      " Episode 1484\tAverage Score: 0.66\n",
      "\n",
      " Environment solved!\n",
      "Score (max over agents) from episode 1485: 1.10000\n",
      " Episode 1485\tAverage Score: 0.67\n",
      "\n",
      " Environment solved!\n",
      "Score (max over agents) from episode 1486: 0.20000\n",
      " Episode 1486\tAverage Score: 0.67\n",
      "\n",
      " Environment solved!\n",
      "Score (max over agents) from episode 1487: 0.10000\n",
      " Episode 1487\tAverage Score: 0.67\n",
      "\n",
      " Environment solved!\n",
      "Score (max over agents) from episode 1488: 0.20000\n",
      " Episode 1488\tAverage Score: 0.67\n",
      "\n",
      " Environment solved!\n",
      "Score (max over agents) from episode 1489: 0.40000\n",
      " Episode 1489\tAverage Score: 0.67\n",
      "\n",
      " Environment solved!\n",
      "Score (max over agents) from episode 1490: 0.60000\n",
      " Episode 1490\tAverage Score: 0.68\n",
      "\n",
      " Environment solved!\n",
      "Score (max over agents) from episode 1491: 0.30000\n",
      " Episode 1491\tAverage Score: 0.68\n",
      "\n",
      " Environment solved!\n",
      "Score (max over agents) from episode 1492: 0.10000\n",
      " Episode 1492\tAverage Score: 0.68\n",
      "\n",
      " Environment solved!\n",
      "Score (max over agents) from episode 1493: 0.20000\n",
      " Episode 1493\tAverage Score: 0.68\n",
      "\n",
      " Environment solved!\n",
      "Score (max over agents) from episode 1494: 0.00000\n",
      " Episode 1494\tAverage Score: 0.68\n",
      "\n",
      " Environment solved!\n",
      "Score (max over agents) from episode 1495: 2.40000\n",
      " Episode 1495\tAverage Score: 0.70\n",
      "\n",
      " Environment solved!\n",
      "Score (max over agents) from episode 1496: 0.10000\n",
      " Episode 1496\tAverage Score: 0.70\n",
      "\n",
      " Environment solved!\n",
      "Score (max over agents) from episode 1497: 0.19000\n",
      " Episode 1497\tAverage Score: 0.70\n",
      "\n",
      " Environment solved!\n",
      "Score (max over agents) from episode 1498: 0.10000\n",
      " Episode 1498\tAverage Score: 0.70\n",
      "\n",
      " Environment solved!\n",
      "Score (max over agents) from episode 1499: 0.19000\n",
      " Episode 1499\tAverage Score: 0.70\n",
      "\n",
      " Environment solved!\n",
      "Score (max over agents) from episode 1500: 2.60000\n",
      " Episode 1500\tAverage Score: 0.72\n",
      "\n",
      " Environment solved!\n",
      "Score (max over agents) from episode 1501: 0.50000\n",
      " Episode 1501\tAverage Score: 0.73\n",
      "\n",
      " Environment solved!\n",
      "Score (max over agents) from episode 1502: 0.10000\n",
      " Episode 1502\tAverage Score: 0.72\n",
      "\n",
      " Environment solved!\n",
      "Score (max over agents) from episode 1503: 1.20000\n",
      " Episode 1503\tAverage Score: 0.73\n",
      "\n",
      " Environment solved!\n",
      "Score (max over agents) from episode 1504: 0.50000\n",
      " Episode 1504\tAverage Score: 0.72\n",
      "\n",
      " Environment solved!\n",
      "Score (max over agents) from episode 1505: 1.10000\n",
      " Episode 1505\tAverage Score: 0.73\n",
      "\n",
      " Environment solved!\n",
      "Score (max over agents) from episode 1506: 0.20000\n",
      " Episode 1506\tAverage Score: 0.72\n",
      "\n",
      " Environment solved!\n",
      "Score (max over agents) from episode 1507: 0.30000\n",
      " Episode 1507\tAverage Score: 0.73\n",
      "\n",
      " Environment solved!\n",
      "Score (max over agents) from episode 1508: 0.80000\n",
      " Episode 1508\tAverage Score: 0.73\n",
      "\n",
      " Environment solved!\n",
      "Score (max over agents) from episode 1509: 0.10000\n",
      " Episode 1509\tAverage Score: 0.73\n",
      "\n",
      " Environment solved!\n",
      "Score (max over agents) from episode 1510: 2.60000\n",
      " Episode 1510\tAverage Score: 0.76\n",
      "\n",
      " Environment solved!\n",
      "Score (max over agents) from episode 1511: 0.60000\n",
      " Episode 1511\tAverage Score: 0.74\n",
      "\n",
      " Environment solved!\n",
      "Score (max over agents) from episode 1512: 2.10000\n",
      " Episode 1512\tAverage Score: 0.76\n",
      "\n",
      " Environment solved!\n",
      "Score (max over agents) from episode 1513: 0.10000\n",
      " Episode 1513\tAverage Score: 0.76\n",
      "\n",
      " Environment solved!\n",
      "Score (max over agents) from episode 1514: 0.00000\n",
      " Episode 1514\tAverage Score: 0.76\n",
      "\n",
      " Environment solved!\n",
      "Score (max over agents) from episode 1515: 0.10000\n",
      " Episode 1515\tAverage Score: 0.76\n",
      "\n",
      " Environment solved!\n",
      "Score (max over agents) from episode 1516: 0.20000\n",
      " Episode 1516\tAverage Score: 0.76\n",
      "\n",
      " Environment solved!\n",
      "Score (max over agents) from episode 1517: 0.19000\n",
      " Episode 1517\tAverage Score: 0.76\n",
      "\n",
      " Environment solved!\n",
      "Score (max over agents) from episode 1518: 0.19000\n",
      " Episode 1518\tAverage Score: 0.77\n",
      "\n",
      " Environment solved!\n",
      "Score (max over agents) from episode 1519: 0.40000\n",
      " Episode 1519\tAverage Score: 0.77\n",
      "\n",
      " Environment solved!\n",
      "Score (max over agents) from episode 1520: 1.20000\n",
      " Episode 1520\tAverage Score: 0.78\n",
      "\n",
      " Environment solved!\n",
      "Score (max over agents) from episode 1521: 0.10000\n",
      " Episode 1521\tAverage Score: 0.78\n",
      "\n",
      " Environment solved!\n",
      "Score (max over agents) from episode 1522: 0.80000\n",
      " Episode 1522\tAverage Score: 0.79\n",
      "\n",
      " Environment solved!\n",
      "Score (max over agents) from episode 1523: 0.49000\n",
      " Episode 1523\tAverage Score: 0.79\n",
      "\n",
      " Environment solved!\n",
      "Score (max over agents) from episode 1524: 0.60000\n",
      " Episode 1524\tAverage Score: 0.80\n",
      "\n",
      " Environment solved!\n",
      "Score (max over agents) from episode 1525: 1.00000\n",
      " Episode 1525\tAverage Score: 0.81\n",
      "\n",
      " Environment solved!\n",
      "Score (max over agents) from episode 1526: 0.19000\n",
      " Episode 1526\tAverage Score: 0.81\n",
      "\n",
      " Environment solved!\n",
      "Score (max over agents) from episode 1527: 0.10000\n",
      " Episode 1527\tAverage Score: 0.81\n",
      "\n",
      " Environment solved!\n",
      "Score (max over agents) from episode 1528: 0.10000\n",
      " Episode 1528\tAverage Score: 0.81\n",
      "\n",
      " Environment solved!\n",
      "Score (max over agents) from episode 1529: 0.80000\n",
      " Episode 1529\tAverage Score: 0.82\n",
      "\n",
      " Environment solved!\n",
      "Score (max over agents) from episode 1530: 0.10000\n",
      " Episode 1530\tAverage Score: 0.82\n",
      "\n",
      " Environment solved!\n",
      "Score (max over agents) from episode 1531: 0.20000\n",
      " Episode 1531\tAverage Score: 0.82\n",
      "\n",
      " Environment solved!\n",
      "Score (max over agents) from episode 1532: 0.10000\n",
      " Episode 1532\tAverage Score: 0.82\n",
      "\n",
      " Environment solved!\n",
      "Score (max over agents) from episode 1533: 0.10000\n",
      " Episode 1533\tAverage Score: 0.82\n",
      "\n",
      " Environment solved!\n",
      "Score (max over agents) from episode 1534: 0.20000\n",
      " Episode 1534\tAverage Score: 0.82\n",
      "\n",
      " Environment solved!\n",
      "Score (max over agents) from episode 1535: 1.80000\n",
      " Episode 1535\tAverage Score: 0.84\n",
      "\n",
      " Environment solved!\n",
      "Score (max over agents) from episode 1536: 1.30000\n",
      " Episode 1536\tAverage Score: 0.85\n",
      "\n",
      " Environment solved!\n",
      "Score (max over agents) from episode 1537: 0.10000\n",
      " Episode 1537\tAverage Score: 0.85\n",
      "\n",
      " Environment solved!\n",
      "Score (max over agents) from episode 1538: 0.10000\n",
      " Episode 1538\tAverage Score: 0.85\n",
      "\n",
      " Environment solved!\n",
      "Score (max over agents) from episode 1539: 0.10000\n",
      " Episode 1539\tAverage Score: 0.85\n",
      "\n",
      " Environment solved!\n"
     ]
    },
    {
     "name": "stdout",
     "output_type": "stream",
     "text": [
      "Score (max over agents) from episode 1540: 1.20000\n",
      " Episode 1540\tAverage Score: 0.86\n",
      "\n",
      " Environment solved!\n",
      "Score (max over agents) from episode 1541: 0.39000\n",
      " Episode 1541\tAverage Score: 0.86\n",
      "\n",
      " Environment solved!\n",
      "Score (max over agents) from episode 1542: 1.09000\n",
      " Episode 1542\tAverage Score: 0.87\n",
      "\n",
      " Environment solved!\n",
      "Score (max over agents) from episode 1543: 0.10000\n",
      " Episode 1543\tAverage Score: 0.85\n",
      "\n",
      " Environment solved!\n",
      "Score (max over agents) from episode 1544: 0.19000\n",
      " Episode 1544\tAverage Score: 0.85\n",
      "\n",
      " Environment solved!\n",
      "Score (max over agents) from episode 1545: 1.10000\n",
      " Episode 1545\tAverage Score: 0.86\n",
      "\n",
      " Environment solved!\n",
      "Score (max over agents) from episode 1546: 0.10000\n",
      " Episode 1546\tAverage Score: 0.83\n",
      "\n",
      " Environment solved!\n",
      "Score (max over agents) from episode 1547: 0.49000\n",
      " Episode 1547\tAverage Score: 0.83\n",
      "\n",
      " Environment solved!\n",
      "Score (max over agents) from episode 1548: 0.30000\n",
      " Episode 1548\tAverage Score: 0.83\n",
      "\n",
      " Environment solved!\n",
      "Score (max over agents) from episode 1549: 0.50000\n",
      " Episode 1549\tAverage Score: 0.84\n",
      "\n",
      " Environment solved!\n",
      "Score (max over agents) from episode 1550: 0.70000\n",
      " Episode 1550\tAverage Score: 0.84\n",
      "\n",
      " Environment solved!\n",
      "Score (max over agents) from episode 1551: 0.20000\n",
      " Episode 1551\tAverage Score: 0.82\n",
      "\n",
      " Environment solved!\n",
      "Score (max over agents) from episode 1552: 0.29000\n",
      " Episode 1552\tAverage Score: 0.81\n",
      "\n",
      " Environment solved!\n",
      "Score (max over agents) from episode 1553: 0.20000\n",
      " Episode 1553\tAverage Score: 0.78\n",
      "\n",
      " Environment solved!\n",
      "Score (max over agents) from episode 1554: 0.00000\n",
      " Episode 1554\tAverage Score: 0.78\n",
      "\n",
      " Environment solved!\n",
      "Score (max over agents) from episode 1555: 0.10000\n",
      " Episode 1555\tAverage Score: 0.76\n",
      "\n",
      " Environment solved!\n",
      "Score (max over agents) from episode 1556: 0.20000\n",
      " Episode 1556\tAverage Score: 0.75\n",
      "\n",
      " Environment solved!\n",
      "Score (max over agents) from episode 1557: 0.20000\n",
      " Episode 1557\tAverage Score: 0.73\n",
      "\n",
      " Environment solved!\n",
      "Score (max over agents) from episode 1558: 0.60000\n",
      " Episode 1558\tAverage Score: 0.73\n",
      "\n",
      " Environment solved!\n",
      "Score (max over agents) from episode 1559: 0.90000\n",
      " Episode 1559\tAverage Score: 0.72\n",
      "\n",
      " Environment solved!\n",
      "Score (max over agents) from episode 1560: 0.30000\n",
      " Episode 1560\tAverage Score: 0.72\n",
      "\n",
      " Environment solved!\n",
      "Score (max over agents) from episode 1561: 0.10000\n",
      " Episode 1561\tAverage Score: 0.71\n",
      "\n",
      " Environment solved!\n",
      "Score (max over agents) from episode 1562: 0.70000\n",
      " Episode 1562\tAverage Score: 0.69\n",
      "\n",
      " Environment solved!\n",
      "Score (max over agents) from episode 1563: 0.80000\n",
      " Episode 1563\tAverage Score: 0.70\n",
      "\n",
      " Environment solved!\n",
      "Score (max over agents) from episode 1564: 1.19000\n",
      " Episode 1564\tAverage Score: 0.71\n",
      "\n",
      " Environment solved!\n",
      "Score (max over agents) from episode 1565: 0.40000\n",
      " Episode 1565\tAverage Score: 0.70\n",
      "\n",
      " Environment solved!\n",
      "Score (max over agents) from episode 1566: 0.29000\n",
      " Episode 1566\tAverage Score: 0.71\n",
      "\n",
      " Environment solved!\n",
      "Score (max over agents) from episode 1567: 0.10000\n",
      " Episode 1567\tAverage Score: 0.70\n",
      "\n",
      " Environment solved!\n",
      "Score (max over agents) from episode 1568: 0.00000\n",
      " Episode 1568\tAverage Score: 0.68\n",
      "\n",
      " Environment solved!\n",
      "Score (max over agents) from episode 1569: 0.60000\n",
      " Episode 1569\tAverage Score: 0.66\n",
      "\n",
      " Environment solved!\n",
      "Score (max over agents) from episode 1570: 0.30000\n",
      " Episode 1570\tAverage Score: 0.65\n",
      "\n",
      " Environment solved!\n",
      "Score (max over agents) from episode 1571: 0.10000\n",
      " Episode 1571\tAverage Score: 0.65\n",
      "\n",
      " Environment solved!\n",
      "Score (max over agents) from episode 1572: 0.10000\n",
      " Episode 1572\tAverage Score: 0.63\n",
      "\n",
      " Environment solved!\n",
      "Score (max over agents) from episode 1573: 0.10000\n",
      " Episode 1573\tAverage Score: 0.61\n",
      "\n",
      " Environment solved!\n",
      "Score (max over agents) from episode 1574: 0.20000\n",
      " Episode 1574\tAverage Score: 0.60\n",
      "\n",
      " Environment solved!\n",
      "Score (max over agents) from episode 1575: 0.00000\n",
      " Episode 1575\tAverage Score: 0.60\n",
      "\n",
      " Environment solved!\n",
      "Score (max over agents) from episode 1576: 0.40000\n",
      " Episode 1576\tAverage Score: 0.59\n",
      "\n",
      " Environment solved!\n",
      "Score (max over agents) from episode 1577: 0.10000\n",
      " Episode 1577\tAverage Score: 0.56\n",
      "\n",
      " Environment solved!\n",
      "Score (max over agents) from episode 1578: 0.10000\n",
      " Episode 1578\tAverage Score: 0.54\n",
      "\n",
      " Environment solved!\n",
      "Score (max over agents) from episode 1579: 0.20000\n",
      " Episode 1579\tAverage Score: 0.52\n",
      "\n",
      " Environment solved!\n",
      "Score (max over agents) from episode 1600: 0.10000\n",
      " Episode 1600\tAverage Score: 0.45\n",
      "Score (max over agents) from episode 1700: 0.10000\n",
      " Episode 1700\tAverage Score: 0.23\n",
      "Score (max over agents) from episode 1800: 0.30000\n",
      " Episode 1800\tAverage Score: 0.14\n",
      "Score (max over agents) from episode 1900: 0.00000\n",
      " Episode 1900\tAverage Score: 0.16\n",
      "Score (max over agents) from episode 2000: 0.10000\n",
      " Episode 2000\tAverage Score: 0.16\n",
      "Score (max over agents) from episode 2100: 0.10000\n",
      " Episode 2100\tAverage Score: 0.15\n",
      "Score (max over agents) from episode 2200: 0.20000\n",
      " Episode 2200\tAverage Score: 0.15\n",
      "Score (max over agents) from episode 2237: 0.10000\r"
     ]
    },
    {
     "ename": "KeyboardInterrupt",
     "evalue": "",
     "output_type": "error",
     "traceback": [
      "\u001b[0;31m---------------------------------------------------------------------------\u001b[0m",
      "\u001b[0;31mKeyboardInterrupt\u001b[0m                         Traceback (most recent call last)",
      "\u001b[0;32m<ipython-input-8-7fc7142c68df>\u001b[0m in \u001b[0;36m<module>\u001b[0;34m\u001b[0m\n\u001b[1;32m     18\u001b[0m         \u001b[0;31m#actions_1 = np.clip(actions_1, -1, 1)             # all actions between -1 and 1\u001b[0m\u001b[0;34m\u001b[0m\u001b[0;34m\u001b[0m\u001b[0;34m\u001b[0m\u001b[0m\n\u001b[1;32m     19\u001b[0m         \u001b[0mactions\u001b[0m \u001b[0;34m=\u001b[0m \u001b[0mnp\u001b[0m\u001b[0;34m.\u001b[0m\u001b[0mconcatenate\u001b[0m\u001b[0;34m(\u001b[0m\u001b[0;34m(\u001b[0m\u001b[0mactions_1\u001b[0m\u001b[0;34m,\u001b[0m \u001b[0mactions_2\u001b[0m\u001b[0;34m)\u001b[0m\u001b[0;34m)\u001b[0m\u001b[0;34m\u001b[0m\u001b[0;34m\u001b[0m\u001b[0m\n\u001b[0;32m---> 20\u001b[0;31m         \u001b[0menv_info\u001b[0m \u001b[0;34m=\u001b[0m \u001b[0menv\u001b[0m\u001b[0;34m.\u001b[0m\u001b[0mstep\u001b[0m\u001b[0;34m(\u001b[0m\u001b[0mactions\u001b[0m\u001b[0;34m)\u001b[0m\u001b[0;34m[\u001b[0m\u001b[0mbrain_name\u001b[0m\u001b[0;34m]\u001b[0m           \u001b[0;31m# send all actions to tne environment\u001b[0m\u001b[0;34m\u001b[0m\u001b[0;34m\u001b[0m\u001b[0m\n\u001b[0m\u001b[1;32m     21\u001b[0m \u001b[0;34m\u001b[0m\u001b[0m\n\u001b[1;32m     22\u001b[0m         \u001b[0mnext_states\u001b[0m\u001b[0;34m,\u001b[0m \u001b[0mrewards\u001b[0m\u001b[0;34m,\u001b[0m \u001b[0mdones\u001b[0m \u001b[0;34m=\u001b[0m \u001b[0menv_info\u001b[0m\u001b[0;34m.\u001b[0m\u001b[0mvector_observations\u001b[0m\u001b[0;34m,\u001b[0m \u001b[0menv_info\u001b[0m\u001b[0;34m.\u001b[0m\u001b[0mrewards\u001b[0m\u001b[0;34m,\u001b[0m \u001b[0menv_info\u001b[0m\u001b[0;34m.\u001b[0m\u001b[0mlocal_done\u001b[0m\u001b[0;34m\u001b[0m\u001b[0;34m\u001b[0m\u001b[0m\n",
      "\u001b[0;32m~/anaconda2/envs/drlnd/lib/python3.6/site-packages/unityagents/environment.py\u001b[0m in \u001b[0;36mstep\u001b[0;34m(self, vector_action, memory, text_action)\u001b[0m\n\u001b[1;32m    367\u001b[0m \u001b[0;34m\u001b[0m\u001b[0m\n\u001b[1;32m    368\u001b[0m             outputs = self.communicator.exchange(\n\u001b[0;32m--> 369\u001b[0;31m                 \u001b[0mself\u001b[0m\u001b[0;34m.\u001b[0m\u001b[0m_generate_step_input\u001b[0m\u001b[0;34m(\u001b[0m\u001b[0mvector_action\u001b[0m\u001b[0;34m,\u001b[0m \u001b[0mmemory\u001b[0m\u001b[0;34m,\u001b[0m \u001b[0mtext_action\u001b[0m\u001b[0;34m)\u001b[0m\u001b[0;34m\u001b[0m\u001b[0;34m\u001b[0m\u001b[0m\n\u001b[0m\u001b[1;32m    370\u001b[0m             )\n\u001b[1;32m    371\u001b[0m             \u001b[0;32mif\u001b[0m \u001b[0moutputs\u001b[0m \u001b[0;32mis\u001b[0m \u001b[0;32mNone\u001b[0m\u001b[0;34m:\u001b[0m\u001b[0;34m\u001b[0m\u001b[0;34m\u001b[0m\u001b[0m\n",
      "\u001b[0;32m~/anaconda2/envs/drlnd/lib/python3.6/site-packages/unityagents/rpc_communicator.py\u001b[0m in \u001b[0;36mexchange\u001b[0;34m(self, inputs)\u001b[0m\n\u001b[1;32m     76\u001b[0m         \u001b[0mmessage\u001b[0m\u001b[0;34m.\u001b[0m\u001b[0munity_input\u001b[0m\u001b[0;34m.\u001b[0m\u001b[0mCopyFrom\u001b[0m\u001b[0;34m(\u001b[0m\u001b[0minputs\u001b[0m\u001b[0;34m)\u001b[0m\u001b[0;34m\u001b[0m\u001b[0;34m\u001b[0m\u001b[0m\n\u001b[1;32m     77\u001b[0m         \u001b[0mself\u001b[0m\u001b[0;34m.\u001b[0m\u001b[0munity_to_external\u001b[0m\u001b[0;34m.\u001b[0m\u001b[0mparent_conn\u001b[0m\u001b[0;34m.\u001b[0m\u001b[0msend\u001b[0m\u001b[0;34m(\u001b[0m\u001b[0mmessage\u001b[0m\u001b[0;34m)\u001b[0m\u001b[0;34m\u001b[0m\u001b[0;34m\u001b[0m\u001b[0m\n\u001b[0;32m---> 78\u001b[0;31m         \u001b[0moutput\u001b[0m \u001b[0;34m=\u001b[0m \u001b[0mself\u001b[0m\u001b[0;34m.\u001b[0m\u001b[0munity_to_external\u001b[0m\u001b[0;34m.\u001b[0m\u001b[0mparent_conn\u001b[0m\u001b[0;34m.\u001b[0m\u001b[0mrecv\u001b[0m\u001b[0;34m(\u001b[0m\u001b[0;34m)\u001b[0m\u001b[0;34m\u001b[0m\u001b[0;34m\u001b[0m\u001b[0m\n\u001b[0m\u001b[1;32m     79\u001b[0m         \u001b[0;32mif\u001b[0m \u001b[0moutput\u001b[0m\u001b[0;34m.\u001b[0m\u001b[0mheader\u001b[0m\u001b[0;34m.\u001b[0m\u001b[0mstatus\u001b[0m \u001b[0;34m!=\u001b[0m \u001b[0;36m200\u001b[0m\u001b[0;34m:\u001b[0m\u001b[0;34m\u001b[0m\u001b[0;34m\u001b[0m\u001b[0m\n\u001b[1;32m     80\u001b[0m             \u001b[0;32mreturn\u001b[0m \u001b[0;32mNone\u001b[0m\u001b[0;34m\u001b[0m\u001b[0;34m\u001b[0m\u001b[0m\n",
      "\u001b[0;32m~/anaconda2/envs/drlnd/lib/python3.6/multiprocessing/connection.py\u001b[0m in \u001b[0;36mrecv\u001b[0;34m(self)\u001b[0m\n\u001b[1;32m    248\u001b[0m         \u001b[0mself\u001b[0m\u001b[0;34m.\u001b[0m\u001b[0m_check_closed\u001b[0m\u001b[0;34m(\u001b[0m\u001b[0;34m)\u001b[0m\u001b[0;34m\u001b[0m\u001b[0;34m\u001b[0m\u001b[0m\n\u001b[1;32m    249\u001b[0m         \u001b[0mself\u001b[0m\u001b[0;34m.\u001b[0m\u001b[0m_check_readable\u001b[0m\u001b[0;34m(\u001b[0m\u001b[0;34m)\u001b[0m\u001b[0;34m\u001b[0m\u001b[0;34m\u001b[0m\u001b[0m\n\u001b[0;32m--> 250\u001b[0;31m         \u001b[0mbuf\u001b[0m \u001b[0;34m=\u001b[0m \u001b[0mself\u001b[0m\u001b[0;34m.\u001b[0m\u001b[0m_recv_bytes\u001b[0m\u001b[0;34m(\u001b[0m\u001b[0;34m)\u001b[0m\u001b[0;34m\u001b[0m\u001b[0;34m\u001b[0m\u001b[0m\n\u001b[0m\u001b[1;32m    251\u001b[0m         \u001b[0;32mreturn\u001b[0m \u001b[0m_ForkingPickler\u001b[0m\u001b[0;34m.\u001b[0m\u001b[0mloads\u001b[0m\u001b[0;34m(\u001b[0m\u001b[0mbuf\u001b[0m\u001b[0;34m.\u001b[0m\u001b[0mgetbuffer\u001b[0m\u001b[0;34m(\u001b[0m\u001b[0;34m)\u001b[0m\u001b[0;34m)\u001b[0m\u001b[0;34m\u001b[0m\u001b[0;34m\u001b[0m\u001b[0m\n\u001b[1;32m    252\u001b[0m \u001b[0;34m\u001b[0m\u001b[0m\n",
      "\u001b[0;32m~/anaconda2/envs/drlnd/lib/python3.6/multiprocessing/connection.py\u001b[0m in \u001b[0;36m_recv_bytes\u001b[0;34m(self, maxsize)\u001b[0m\n\u001b[1;32m    405\u001b[0m \u001b[0;34m\u001b[0m\u001b[0m\n\u001b[1;32m    406\u001b[0m     \u001b[0;32mdef\u001b[0m \u001b[0m_recv_bytes\u001b[0m\u001b[0;34m(\u001b[0m\u001b[0mself\u001b[0m\u001b[0;34m,\u001b[0m \u001b[0mmaxsize\u001b[0m\u001b[0;34m=\u001b[0m\u001b[0;32mNone\u001b[0m\u001b[0;34m)\u001b[0m\u001b[0;34m:\u001b[0m\u001b[0;34m\u001b[0m\u001b[0;34m\u001b[0m\u001b[0m\n\u001b[0;32m--> 407\u001b[0;31m         \u001b[0mbuf\u001b[0m \u001b[0;34m=\u001b[0m \u001b[0mself\u001b[0m\u001b[0;34m.\u001b[0m\u001b[0m_recv\u001b[0m\u001b[0;34m(\u001b[0m\u001b[0;36m4\u001b[0m\u001b[0;34m)\u001b[0m\u001b[0;34m\u001b[0m\u001b[0;34m\u001b[0m\u001b[0m\n\u001b[0m\u001b[1;32m    408\u001b[0m         \u001b[0msize\u001b[0m\u001b[0;34m,\u001b[0m \u001b[0;34m=\u001b[0m \u001b[0mstruct\u001b[0m\u001b[0;34m.\u001b[0m\u001b[0munpack\u001b[0m\u001b[0;34m(\u001b[0m\u001b[0;34m\"!i\"\u001b[0m\u001b[0;34m,\u001b[0m \u001b[0mbuf\u001b[0m\u001b[0;34m.\u001b[0m\u001b[0mgetvalue\u001b[0m\u001b[0;34m(\u001b[0m\u001b[0;34m)\u001b[0m\u001b[0;34m)\u001b[0m\u001b[0;34m\u001b[0m\u001b[0;34m\u001b[0m\u001b[0m\n\u001b[1;32m    409\u001b[0m         \u001b[0;32mif\u001b[0m \u001b[0mmaxsize\u001b[0m \u001b[0;32mis\u001b[0m \u001b[0;32mnot\u001b[0m \u001b[0;32mNone\u001b[0m \u001b[0;32mand\u001b[0m \u001b[0msize\u001b[0m \u001b[0;34m>\u001b[0m \u001b[0mmaxsize\u001b[0m\u001b[0;34m:\u001b[0m\u001b[0;34m\u001b[0m\u001b[0;34m\u001b[0m\u001b[0m\n",
      "\u001b[0;32m~/anaconda2/envs/drlnd/lib/python3.6/multiprocessing/connection.py\u001b[0m in \u001b[0;36m_recv\u001b[0;34m(self, size, read)\u001b[0m\n\u001b[1;32m    377\u001b[0m         \u001b[0mremaining\u001b[0m \u001b[0;34m=\u001b[0m \u001b[0msize\u001b[0m\u001b[0;34m\u001b[0m\u001b[0;34m\u001b[0m\u001b[0m\n\u001b[1;32m    378\u001b[0m         \u001b[0;32mwhile\u001b[0m \u001b[0mremaining\u001b[0m \u001b[0;34m>\u001b[0m \u001b[0;36m0\u001b[0m\u001b[0;34m:\u001b[0m\u001b[0;34m\u001b[0m\u001b[0;34m\u001b[0m\u001b[0m\n\u001b[0;32m--> 379\u001b[0;31m             \u001b[0mchunk\u001b[0m \u001b[0;34m=\u001b[0m \u001b[0mread\u001b[0m\u001b[0;34m(\u001b[0m\u001b[0mhandle\u001b[0m\u001b[0;34m,\u001b[0m \u001b[0mremaining\u001b[0m\u001b[0;34m)\u001b[0m\u001b[0;34m\u001b[0m\u001b[0;34m\u001b[0m\u001b[0m\n\u001b[0m\u001b[1;32m    380\u001b[0m             \u001b[0mn\u001b[0m \u001b[0;34m=\u001b[0m \u001b[0mlen\u001b[0m\u001b[0;34m(\u001b[0m\u001b[0mchunk\u001b[0m\u001b[0;34m)\u001b[0m\u001b[0;34m\u001b[0m\u001b[0;34m\u001b[0m\u001b[0m\n\u001b[1;32m    381\u001b[0m             \u001b[0;32mif\u001b[0m \u001b[0mn\u001b[0m \u001b[0;34m==\u001b[0m \u001b[0;36m0\u001b[0m\u001b[0;34m:\u001b[0m\u001b[0;34m\u001b[0m\u001b[0;34m\u001b[0m\u001b[0m\n",
      "\u001b[0;31mKeyboardInterrupt\u001b[0m: "
     ]
    }
   ],
   "source": [
    "n_episodes=5000\n",
    "t_max = 1000\n",
    "print_every=100\n",
    "maxlen=100\n",
    "\n",
    "score = []\n",
    "ev_score = []\n",
    "scores_deque = deque(maxlen=maxlen)\n",
    "for i_episode in range(1, n_episodes + 1):                                    # play game for 5 episodes\n",
    "    env_info = env.reset(train_mode=True)[brain_name]     # reset the environment    \n",
    "    states = env_info.vector_observations                  # get the current state (for each agent)\n",
    "    scores = np.zeros(num_agents)                          # initialize the score (for each agent)\n",
    "    agent_1.reset()\n",
    "    agent_2.reset()   \n",
    "    for t in range(t_max):     \n",
    "        actions_1 = agent_1.act(np.expand_dims(states[0],0), True)\n",
    "        actions_2 = agent_2.act(np.expand_dims(states[1],0), True)\n",
    "        #actions_1 = np.clip(actions_1, -1, 1)             # all actions between -1 and 1\n",
    "        actions = np.concatenate((actions_1, actions_2))\n",
    "        env_info = env.step(actions)[brain_name]           # send all actions to tne environment\n",
    "        \n",
    "        next_states, rewards, dones = env_info.vector_observations, env_info.rewards, env_info.local_done\n",
    "        #for state, action, reward, next_state, done in zip(states, actions, rewards, next_states, dones):\n",
    "        agent_1.step(np.expand_dims(states[0],0), actions_1, rewards[0], np.expand_dims(next_states[0],0), dones[0], t)\n",
    "        agent_2.step(np.expand_dims(states[1],0), actions_2, rewards[1], np.expand_dims(next_states[1],0), dones[1], t)\n",
    "        \n",
    "        scores += rewards                                  # update the score (for each agent)\n",
    "        states = next_states                               # roll over states to next time step\n",
    "        if np.any(dones):                                  # exit loop if episode finished\n",
    "            break\n",
    "        \n",
    "    score.append(np.max(scores))\n",
    "    ev_score.append(np.mean(scores_deque))\n",
    "    scores_deque.append(np.max(scores))\n",
    "    print('Score (max over agents) from episode {}: {:.5f}'.format(i_episode, np.max(scores)), end='\\r')\n",
    "    if i_episode % print_every == 0 or np.mean(scores_deque)>0.5:\n",
    "        print('\\n Episode {}\\tAverage Score: {:.2f}'.format(i_episode, np.mean(scores_deque)))\n",
    "        if np.mean(scores_deque)>0.5:\n",
    "            print(\"\\n Environment solved!\")\n",
    "            #torch.save(agent_1.actor_local.state_dict(), 'checkpoint_actor_1.pth')\n",
    "            #torch.save(agent_2.actor_local.state_dict(), 'checkpoint_actor_2.pth')\n",
    "            #torch.save(agent_1.critic_local.state_dict(), 'checkpoint_critic_1.pth')\n",
    "            #torch.save(agent_2.critic_local.state_dict(), 'checkpoint_critic_2.pth')\n",
    "\n",
    "    "
   ]
  },
  {
   "cell_type": "code",
   "execution_count": 19,
   "metadata": {},
   "outputs": [
    {
     "data": {
      "image/png": "[encoded data removed]",
      "text/plain": [
       "<Figure size 432x288 with 1 Axes>"
      ]
     },
     "metadata": {
      "needs_background": "light"
     },
     "output_type": "display_data"
    }
   ],
   "source": [
    "fig = plt.figure()\n",
    "ax = fig.add_subplot(111)\n",
    "plt.plot(np.arange(1, len(score)+1), score, label=\"score\")\n",
    "plt.plot(np.arange(1, len(ev_score)+1), ev_score, label=\"everage score over 100 episodes\")\n",
    "plt.ylabel('Score')\n",
    "plt.xlabel('Episode #')\n",
    "\n",
    "plt.legend()\n",
    "plt.show()"
   ]
  },
  {
   "cell_type": "code",
   "execution_count": 9,
   "metadata": {},
   "outputs": [
    {
     "ename": "NameError",
     "evalue": "name 'fig' is not defined",
     "output_type": "error",
     "traceback": [
      "\u001b[0;31m---------------------------------------------------------------------------\u001b[0m",
      "\u001b[0;31mNameError\u001b[0m                                 Traceback (most recent call last)",
      "\u001b[0;32m<ipython-input-9-a0d5cfb20b5a>\u001b[0m in \u001b[0;36m<module>\u001b[0;34m\u001b[0m\n\u001b[0;32m----> 1\u001b[0;31m \u001b[0mfig\u001b[0m\u001b[0;34m.\u001b[0m\u001b[0msavefig\u001b[0m\u001b[0;34m(\u001b[0m\u001b[0;34m'scores.jpeg'\u001b[0m\u001b[0;34m,\u001b[0m \u001b[0mformat\u001b[0m\u001b[0;34m=\u001b[0m\u001b[0;34m'jpeg'\u001b[0m\u001b[0;34m,\u001b[0m \u001b[0mbbox_inches\u001b[0m\u001b[0;34m=\u001b[0m\u001b[0;34m\"tight\"\u001b[0m\u001b[0;34m,\u001b[0m  \u001b[0mdpi\u001b[0m\u001b[0;34m=\u001b[0m\u001b[0;36m300\u001b[0m\u001b[0;34m,\u001b[0m \u001b[0mpad_inches\u001b[0m\u001b[0;34m=\u001b[0m\u001b[0;36m0\u001b[0m\u001b[0;34m,\u001b[0m \u001b[0mframeon\u001b[0m\u001b[0;34m=\u001b[0m\u001b[0;32mFalse\u001b[0m\u001b[0;34m)\u001b[0m\u001b[0;34m\u001b[0m\u001b[0;34m\u001b[0m\u001b[0m\n\u001b[0m",
      "\u001b[0;31mNameError\u001b[0m: name 'fig' is not defined"
     ]
    }
   ],
   "source": [
    "fig.savefig('scores.jpeg', format='jpeg', bbox_inches=\"tight\",  dpi=300, pad_inches=0, frameon=False)"
   ]
  },
  {
   "cell_type": "code",
   "execution_count": 7,
   "metadata": {},
   "outputs": [],
   "source": [
    "agent_2.actor_local.load_state_dict(torch.load('checkpoint_actor.pth'))\n",
    "agent_1.actor_local.load_state_dict(torch.load('checkpoint_actor.pth'))\n",
    "agent_1.critic_local.load_state_dict(torch.load('checkpoint_critic.pth'))\n",
    "agent_2.critic_local.load_state_dict(torch.load('checkpoint_critic.pth'))"
   ]
  },
  {
   "cell_type": "code",
   "execution_count": 8,
   "metadata": {},
   "outputs": [
    {
     "name": "stdout",
     "output_type": "stream",
     "text": [
      "Score (max over agents) from episode 1: 0.10000\r"
     ]
    },
    {
     "name": "stderr",
     "output_type": "stream",
     "text": [
      "ERROR:root:Internal Python error in the inspect module.\n",
      "Below is the traceback from this internal error.\n",
      "\n",
      "INFO:root:\n",
      "Unfortunately, your original traceback can not be constructed.\n",
      "\n"
     ]
    },
    {
     "name": "stdout",
     "output_type": "stream",
     "text": [
      "Traceback (most recent call last):\n",
      "  File \"/Users/d065820/anaconda2/envs/drlnd/lib/python3.6/site-packages/IPython/core/interactiveshell.py\", line 3267, in run_code\n",
      "    exec(code_obj, self.user_global_ns, self.user_ns)\n",
      "  File \"<ipython-input-8-b681fde24120>\", line 18, in <module>\n",
      "    env_info = env.step(actions)[brain_name]           # send all actions to tne environment\n",
      "  File \"/Users/d065820/anaconda2/envs/drlnd/lib/python3.6/site-packages/unityagents/environment.py\", line 369, in step\n",
      "    self._generate_step_input(vector_action, memory, text_action)\n",
      "  File \"/Users/d065820/anaconda2/envs/drlnd/lib/python3.6/site-packages/unityagents/rpc_communicator.py\", line 78, in exchange\n",
      "    output = self.unity_to_external.parent_conn.recv()\n",
      "  File \"/Users/d065820/anaconda2/envs/drlnd/lib/python3.6/multiprocessing/connection.py\", line 250, in recv\n",
      "    buf = self._recv_bytes()\n",
      "  File \"/Users/d065820/anaconda2/envs/drlnd/lib/python3.6/multiprocessing/connection.py\", line 407, in _recv_bytes\n",
      "    buf = self._recv(4)\n",
      "  File \"/Users/d065820/anaconda2/envs/drlnd/lib/python3.6/multiprocessing/connection.py\", line 379, in _recv\n",
      "    chunk = read(handle, remaining)\n",
      "KeyboardInterrupt\n",
      "\n",
      "During handling of the above exception, another exception occurred:\n",
      "\n",
      "Traceback (most recent call last):\n",
      "  File \"/Users/d065820/anaconda2/envs/drlnd/lib/python3.6/site-packages/IPython/core/interactiveshell.py\", line 2018, in showtraceback\n",
      "    stb = value._render_traceback_()\n",
      "AttributeError: 'KeyboardInterrupt' object has no attribute '_render_traceback_'\n",
      "\n",
      "During handling of the above exception, another exception occurred:\n",
      "\n",
      "Traceback (most recent call last):\n",
      "  File \"/Users/d065820/anaconda2/envs/drlnd/lib/python3.6/site-packages/IPython/core/ultratb.py\", line 1095, in get_records\n",
      "    return _fixed_getinnerframes(etb, number_of_lines_of_context, tb_offset)\n",
      "  File \"/Users/d065820/anaconda2/envs/drlnd/lib/python3.6/site-packages/IPython/core/ultratb.py\", line 313, in wrapped\n",
      "    return f(*args, **kwargs)\n",
      "  File \"/Users/d065820/anaconda2/envs/drlnd/lib/python3.6/site-packages/IPython/core/ultratb.py\", line 347, in _fixed_getinnerframes\n",
      "    records = fix_frame_records_filenames(inspect.getinnerframes(etb, context))\n",
      "  File \"/Users/d065820/anaconda2/envs/drlnd/lib/python3.6/inspect.py\", line 1490, in getinnerframes\n",
      "    frameinfo = (tb.tb_frame,) + getframeinfo(tb, context)\n",
      "  File \"/Users/d065820/anaconda2/envs/drlnd/lib/python3.6/inspect.py\", line 1448, in getframeinfo\n",
      "    filename = getsourcefile(frame) or getfile(frame)\n",
      "  File \"/Users/d065820/anaconda2/envs/drlnd/lib/python3.6/inspect.py\", line 696, in getsourcefile\n",
      "    if getattr(getmodule(object, filename), '__loader__', None) is not None:\n",
      "  File \"/Users/d065820/anaconda2/envs/drlnd/lib/python3.6/inspect.py\", line 742, in getmodule\n",
      "    os.path.realpath(f)] = module.__name__\n",
      "  File \"/Users/d065820/anaconda2/envs/drlnd/lib/python3.6/posixpath.py\", line 395, in realpath\n",
      "    path, ok = _joinrealpath(filename[:0], filename, {})\n",
      "  File \"/Users/d065820/anaconda2/envs/drlnd/lib/python3.6/posixpath.py\", line 428, in _joinrealpath\n",
      "    newpath = join(path, name)\n",
      "  File \"/Users/d065820/anaconda2/envs/drlnd/lib/python3.6/posixpath.py\", line 92, in join\n",
      "    path += sep + b\n",
      "KeyboardInterrupt\n"
     ]
    },
    {
     "ename": "KeyboardInterrupt",
     "evalue": "",
     "output_type": "error",
     "traceback": [
      "\u001b[0;31m---------------------------------------------------------------------------\u001b[0m"
     ]
    }
   ],
   "source": [
    "n_episodes=5000\n",
    "t_max = 1000\n",
    "print_every=100\n",
    "maxlen=100\n",
    "\n",
    "scores_deque = deque(maxlen=maxlen)\n",
    "for i_episode in range(1, n_episodes + 1):                                    # play game for 5 episodes\n",
    "    env_info = env.reset(train_mode=False)[brain_name]     # reset the environment    \n",
    "    states = env_info.vector_observations                  # get the current state (for each agent)\n",
    "    scores = np.zeros(num_agents)                          # initialize the score (for each agent)\n",
    "    agent_1.reset()\n",
    "    agent_2.reset()   \n",
    "    for t in range(t_max):     \n",
    "        actions_1 = agent_1.act(np.expand_dims(states[0],0), True)\n",
    "        actions_2 = agent_2.act(np.expand_dims(states[1],0), True)\n",
    "        #actions_1 = np.clip(actions_1, -1, 1)             # all actions between -1 and 1\n",
    "        actions = np.concatenate((actions_1, actions_2))\n",
    "        env_info = env.step(actions)[brain_name]           # send all actions to tne environment\n",
    "        next_states, rewards, dones = env_info.vector_observations, env_info.rewards, env_info.local_done\n",
    "        scores += rewards                                  # update the score (for each agent)\n",
    "        states = next_states                               # roll over states to next time step\n",
    "        if np.any(dones):                                  # exit loop if episode finished\n",
    "            break\n",
    "            \n",
    "    scores_deque.append(np.max(scores))\n",
    "    print('Score (max over agents) from episode {}: {:.5f}'.format(i_episode, np.max(scores)), end='\\r')\n",
    "    "
   ]
  },
  {
   "cell_type": "code",
   "execution_count": null,
   "metadata": {},
   "outputs": [],
   "source": [
    "for i in range(1, 6):      \n",
    "    print(i)"
   ]
  },
  {
   "cell_type": "code",
   "execution_count": null,
   "metadata": {},
   "outputs": [],
   "source": []
  }
 ],
 "metadata": {
  "kernelspec": {
   "display_name": "drlnd",
   "language": "python",
   "name": "drlnd"
  },
  "language_info": {
   "codemirror_mode": {
    "name": "ipython",
    "version": 3
   },
   "file_extension": ".py",
   "mimetype": "text/x-python",
   "name": "python",
   "nbconvert_exporter": "python",
   "pygments_lexer": "ipython3",
   "version": "3.6.8"
  }
 },
 "nbformat": 4,
 "nbformat_minor": 2
}
